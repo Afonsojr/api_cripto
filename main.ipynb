{
 "cells": [
  {
   "cell_type": "code",
   "execution_count": 90,
   "metadata": {},
   "outputs": [],
   "source": [
    "import requests\n",
    "import pandas as pd\n",
    "import numpy as np\n",
    "import datetime"
   ]
  },
  {
   "cell_type": "code",
   "execution_count": 78,
   "metadata": {},
   "outputs": [],
   "source": [
    "url = \"https://api.binance.com/api/v3/ticker/price\"\n",
    "req = requests.get(url)\n",
    "response = req.json()\n",
    "# print(response)"
   ]
  },
  {
   "cell_type": "code",
   "execution_count": 91,
   "metadata": {},
   "outputs": [],
   "source": [
    "df = pd.DataFrame(response).set_index('symbol')\n",
    "# add column with the date hour and minute\n",
    "df['date'] = datetime.datetime.now().strftime(\"%Y-%m-%d %H:%M:%S\")\n",
    "# df['date'] = datetime.datetime.now().strftime(\"%Y-%m-%d\")\n"
   ]
  },
  {
   "cell_type": "code",
   "execution_count": 83,
   "metadata": {},
   "outputs": [],
   "source": [
    "#search for the price of SOLUSDT\n",
    "token_list = [\"BTCUSDT\", \"ETHUSDT\", \"BNBUSDT\", \"XMRUSDT\", \"SOLUSDT\", \"LUNAUSDT\", \"ATOMUSDT\", \"APEUSDT\", \"LOKAUSDT\", \"ADAUSDT\", \"SHIBUSDT\", 'ROSEUSDT', 'DOTUSDT', 'AAVEUSDT']\n",
    "\n",
    "# print(df.loc[df['symbol'] == 'DOTUSDT'])"
   ]
  },
  {
   "cell_type": "code",
   "execution_count": 81,
   "metadata": {},
   "outputs": [],
   "source": [
    "df['price'] = df['price'].astype(float)"
   ]
  },
  {
   "cell_type": "code",
   "execution_count": 92,
   "metadata": {},
   "outputs": [
    {
     "data": {
      "text/html": [
       "<div>\n",
       "<style scoped>\n",
       "    .dataframe tbody tr th:only-of-type {\n",
       "        vertical-align: middle;\n",
       "    }\n",
       "\n",
       "    .dataframe tbody tr th {\n",
       "        vertical-align: top;\n",
       "    }\n",
       "\n",
       "    .dataframe thead th {\n",
       "        text-align: right;\n",
       "    }\n",
       "</style>\n",
       "<table border=\"1\" class=\"dataframe\">\n",
       "  <thead>\n",
       "    <tr style=\"text-align: right;\">\n",
       "      <th></th>\n",
       "      <th>price</th>\n",
       "      <th>date</th>\n",
       "    </tr>\n",
       "    <tr>\n",
       "      <th>symbol</th>\n",
       "      <th></th>\n",
       "      <th></th>\n",
       "    </tr>\n",
       "  </thead>\n",
       "  <tbody>\n",
       "    <tr>\n",
       "      <th>BTCUSDT</th>\n",
       "      <td>46032.34000000</td>\n",
       "      <td>2022-04-05 19:52:59</td>\n",
       "    </tr>\n",
       "    <tr>\n",
       "      <th>BNBUSDT</th>\n",
       "      <td>450.30000000</td>\n",
       "      <td>2022-04-05 19:52:59</td>\n",
       "    </tr>\n",
       "    <tr>\n",
       "      <th>ETHUSDT</th>\n",
       "      <td>3460.41000000</td>\n",
       "      <td>2022-04-05 19:52:59</td>\n",
       "    </tr>\n",
       "    <tr>\n",
       "      <th>LOKAUSDT</th>\n",
       "      <td>3.52900000</td>\n",
       "      <td>2022-04-05 19:52:59</td>\n",
       "    </tr>\n",
       "    <tr>\n",
       "      <th>ATOMUSDT</th>\n",
       "      <td>29.83000000</td>\n",
       "      <td>2022-04-05 19:52:59</td>\n",
       "    </tr>\n",
       "    <tr>\n",
       "      <th>AAVEUSDT</th>\n",
       "      <td>225.80000000</td>\n",
       "      <td>2022-04-05 19:52:59</td>\n",
       "    </tr>\n",
       "    <tr>\n",
       "      <th>XMRUSDT</th>\n",
       "      <td>222.40000000</td>\n",
       "      <td>2022-04-05 19:52:59</td>\n",
       "    </tr>\n",
       "    <tr>\n",
       "      <th>DOTUSDT</th>\n",
       "      <td>22.20000000</td>\n",
       "      <td>2022-04-05 19:52:59</td>\n",
       "    </tr>\n",
       "    <tr>\n",
       "      <th>SOLUSDT</th>\n",
       "      <td>130.10000000</td>\n",
       "      <td>2022-04-05 19:52:59</td>\n",
       "    </tr>\n",
       "    <tr>\n",
       "      <th>LUNAUSDT</th>\n",
       "      <td>117.37000000</td>\n",
       "      <td>2022-04-05 19:52:59</td>\n",
       "    </tr>\n",
       "    <tr>\n",
       "      <th>APEUSDT</th>\n",
       "      <td>11.91200000</td>\n",
       "      <td>2022-04-05 19:52:59</td>\n",
       "    </tr>\n",
       "    <tr>\n",
       "      <th>ADAUSDT</th>\n",
       "      <td>1.18800000</td>\n",
       "      <td>2022-04-05 19:52:59</td>\n",
       "    </tr>\n",
       "    <tr>\n",
       "      <th>ROSEUSDT</th>\n",
       "      <td>0.30720000</td>\n",
       "      <td>2022-04-05 19:52:59</td>\n",
       "    </tr>\n",
       "    <tr>\n",
       "      <th>SHIBUSDT</th>\n",
       "      <td>0.00002703</td>\n",
       "      <td>2022-04-05 19:52:59</td>\n",
       "    </tr>\n",
       "  </tbody>\n",
       "</table>\n",
       "</div>"
      ],
      "text/plain": [
       "                   price                 date\n",
       "symbol                                       \n",
       "BTCUSDT   46032.34000000  2022-04-05 19:52:59\n",
       "BNBUSDT     450.30000000  2022-04-05 19:52:59\n",
       "ETHUSDT    3460.41000000  2022-04-05 19:52:59\n",
       "LOKAUSDT      3.52900000  2022-04-05 19:52:59\n",
       "ATOMUSDT     29.83000000  2022-04-05 19:52:59\n",
       "AAVEUSDT    225.80000000  2022-04-05 19:52:59\n",
       "XMRUSDT     222.40000000  2022-04-05 19:52:59\n",
       "DOTUSDT      22.20000000  2022-04-05 19:52:59\n",
       "SOLUSDT     130.10000000  2022-04-05 19:52:59\n",
       "LUNAUSDT    117.37000000  2022-04-05 19:52:59\n",
       "APEUSDT      11.91200000  2022-04-05 19:52:59\n",
       "ADAUSDT       1.18800000  2022-04-05 19:52:59\n",
       "ROSEUSDT      0.30720000  2022-04-05 19:52:59\n",
       "SHIBUSDT      0.00002703  2022-04-05 19:52:59"
      ]
     },
     "execution_count": 92,
     "metadata": {},
     "output_type": "execute_result"
    }
   ],
   "source": [
    "# print sorted dataframe\n",
    "df2 = df.loc[token_list]\n",
    "df2.sort_values(by=['price'], ascending=False)\n"
   ]
  }
 ],
 "metadata": {
  "interpreter": {
   "hash": "7cbfa7e39e3327c4706f4b4981cb2ded3a4beb828a6bfaa71a0ee800420a6f1e"
  },
  "kernelspec": {
   "display_name": "Python 3.10.4 ('.venv': venv)",
   "language": "python",
   "name": "python3"
  },
  "language_info": {
   "codemirror_mode": {
    "name": "ipython",
    "version": 3
   },
   "file_extension": ".py",
   "mimetype": "text/x-python",
   "name": "python",
   "nbconvert_exporter": "python",
   "pygments_lexer": "ipython3",
   "version": "3.10.4"
  },
  "orig_nbformat": 4
 },
 "nbformat": 4,
 "nbformat_minor": 2
}
